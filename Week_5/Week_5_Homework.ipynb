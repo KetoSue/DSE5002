{
 "cells": [
  {
   "cell_type": "markdown",
   "id": "88671a38",
   "metadata": {},
   "source": [
    "# Homework 5\n",
    "### Sue Susman MEd, BSN, RN\n",
    "### April 23, 2023"
   ]
  },
  {
   "cell_type": "markdown",
   "id": "822c38b0",
   "metadata": {},
   "source": [
    "Answer each question by writing the Python code needed to perform the task. Please only use the libraries requested in each problem. "
   ]
  },
  {
   "cell_type": "markdown",
   "id": "c25d3684",
   "metadata": {},
   "source": [
    "### Problem 1\n",
    "Load the interest_inflation data from the statsmodels library as a pandas data frame assigned to `df`. Use the function `df.head()` to view the first 5 rows of the data. Notice the first observation is indexed at 0. Unlike R, Python is a 0 based index language which means when you iterate or wish to view the first observation of a data object it will be at the index 0. \n",
    "\n",
    "What do the columns `Dp` and `R` represent? (You can find this using the documentation)\n"
   ]
  },
  {
   "cell_type": "code",
   "execution_count": 1,
   "id": "1b424da1",
   "metadata": {},
   "outputs": [
    {
     "name": "stdout",
     "output_type": "stream",
     "text": [
      "     year  quarter        Dp      R\n",
      "0  1972.0      2.0 -0.003133  0.083\n",
      "1  1972.0      3.0  0.018871  0.083\n",
      "2  1972.0      4.0  0.024804  0.087\n",
      "3  1973.0      1.0  0.016278  0.087\n",
      "4  1973.0      2.0  0.000290  0.102\n"
     ]
    }
   ],
   "source": [
    "from statsmodels.datasets.interest_inflation import load_pandas\n",
    "df = load_pandas().data\n",
    "print(df.head())"
   ]
  },
  {
   "cell_type": "markdown",
   "id": "db277a96",
   "metadata": {},
   "source": [
    "**What do the columns Dp and R represent? (You can find this using the documentation)**<br>\n",
    "year      - 1972q2 - 1998q4<br>\n",
    "quarter   - 1-4<br>\n",
    "Dp        - Delta log gdp deflator <br>\n",
    "R         - nominal long term interest rate<br>\n",
    "\n",
    "Dp: Inflation rate, measured as the percentage increase in the consumer price index (CPI) from one year to the next.<br>\n",
    "R: Interest rate, measured as the percentage yield on 3-month US Treasury bills, which are short-term debt securities issued by the US government."
   ]
  },
  {
   "cell_type": "markdown",
   "id": "724b3e2c",
   "metadata": {},
   "source": [
    "### Problem 2\n",
    "Import scipy as sp and numpy as np. Using the `mean()` and `var()` function from scipy, validate that both functions equate to their numpy counterparts against the column `Dp`.\n",
    "\n",
    "By using the scipy library you should receive a warning message. What does the warning message indicate? Which function should you use going forward? "
   ]
  },
  {
   "cell_type": "code",
   "execution_count": 2,
   "id": "83dc8d7f",
   "metadata": {},
   "outputs": [
    {
     "name": "stdout",
     "output_type": "stream",
     "text": [
      "True\n",
      "True\n"
     ]
    },
    {
     "name": "stderr",
     "output_type": "stream",
     "text": [
      "/var/folders/7w/vf_3wx5d6kq9bm2666hl7yy80000gn/T/ipykernel_18172/2175973929.py:16: DeprecationWarning: scipy.mean is deprecated and will be removed in SciPy 2.0.0, use numpy.mean instead\n",
      "  sp_mean = sp.mean(Dp)\n",
      "/var/folders/7w/vf_3wx5d6kq9bm2666hl7yy80000gn/T/ipykernel_18172/2175973929.py:17: DeprecationWarning: scipy.var is deprecated and will be removed in SciPy 2.0.0, use numpy.var instead\n",
      "  sp_var = sp.var(Dp)\n"
     ]
    }
   ],
   "source": [
    "import numpy as np\n",
    "import scipy as sp\n",
    "from statsmodels.datasets import interest_inflation\n",
    "\n",
    "# Load data into a pandas dataframe\n",
    "df = interest_inflation.load_pandas().data\n",
    "\n",
    "# Extract the 'Dp' column as a numpy array\n",
    "Dp = df['Dp'].to_numpy()\n",
    "\n",
    "# Calculate the mean and variance using numpy\n",
    "np_mean = np.mean(Dp)\n",
    "np_var = np.var(Dp)\n",
    "\n",
    "# Calculate the mean and variance using scipy\n",
    "sp_mean = sp.mean(Dp)\n",
    "sp_var = sp.var(Dp)\n",
    "\n",
    "# Check if the mean and variance values are equivalent\n",
    "print(np.isclose(np_mean, sp_mean))  # True\n",
    "print(np.isclose(np_var, sp_var))  # True\n"
   ]
  },
  {
   "cell_type": "markdown",
   "id": "6f14e273",
   "metadata": {},
   "source": [
    "**1. What does the warning message indicate?**<br>\n",
    "The warning message indicates that the mean() and var() functions are deprecated in Scipy and will be removed in a future version. <br>\n",
    "\n",
    "**2. Which function should you use going forward?**<br>\n",
    "Therefore, going forward it is recommended to use the numpy functions np.mean() and np.var() to calculate the mean and variance of the Dp column, respectively."
   ]
  },
  {
   "cell_type": "markdown",
   "id": "7334bad9",
   "metadata": {},
   "source": [
    "### Problem 3\n",
    "Fit an OLS regression (linear regression) using the statsmodels api where `y = df['Dp']` and `x = df['R']`. By default OLS estimates the theoretical mean of the dependent variable y. Statsmodels.ols does not fit a constant value by default so be sure to add a constant to `x`. Extract the coefficients into a variable named `res1_coefs`. See the documentation for `params`. Finally print the `summary()` of the model. \n",
    "\n",
    "Documentation: https://www.statsmodels.org/dev/generated/statsmodels.regression.linear_model.OLS.html"
   ]
  },
  {
   "cell_type": "code",
   "execution_count": 3,
   "id": "30e5d02a",
   "metadata": {
    "scrolled": true
   },
   "outputs": [
    {
     "name": "stdout",
     "output_type": "stream",
     "text": [
      "                            OLS Regression Results                            \n",
      "==============================================================================\n",
      "Dep. Variable:                     Dp   R-squared:                       0.018\n",
      "Model:                            OLS   Adj. R-squared:                  0.009\n",
      "Method:                 Least Squares   F-statistic:                     1.954\n",
      "Date:                Sun, 23 Apr 2023   Prob (F-statistic):              0.165\n",
      "Time:                        20:01:54   Log-Likelihood:                 274.44\n",
      "No. Observations:                 107   AIC:                            -544.9\n",
      "Df Residuals:                     105   BIC:                            -539.5\n",
      "Df Model:                           1                                         \n",
      "Covariance Type:            nonrobust                                         \n",
      "==============================================================================\n",
      "                 coef    std err          t      P>|t|      [0.025      0.975]\n",
      "------------------------------------------------------------------------------\n",
      "const         -0.0031      0.008     -0.370      0.712      -0.020       0.014\n",
      "R              0.1545      0.111      1.398      0.165      -0.065       0.374\n",
      "==============================================================================\n",
      "Omnibus:                       11.018   Durbin-Watson:                   2.552\n",
      "Prob(Omnibus):                  0.004   Jarque-Bera (JB):                3.844\n",
      "Skew:                          -0.050   Prob(JB):                        0.146\n",
      "Kurtosis:                       2.077   Cond. No.                         61.2\n",
      "==============================================================================\n",
      "\n",
      "Notes:\n",
      "[1] Standard Errors assume that the covariance matrix of the errors is correctly specified.\n"
     ]
    }
   ],
   "source": [
    "import statsmodels.api as sm\n",
    "\n",
    "# Define the dependent variable (y) and the independent variable (x)\n",
    "y = df['Dp']\n",
    "x = df['R']\n",
    "\n",
    "# Add a constant term to the independent variable array\n",
    "x = sm.add_constant(x)\n",
    "\n",
    "# Fit the linear regression model\n",
    "model = sm.OLS(y, x).fit()\n",
    "\n",
    "# Extract the coefficients\n",
    "res1_coefs = model.params\n",
    "\n",
    "# Print the model summary\n",
    "print(model.summary())\n"
   ]
  },
  {
   "cell_type": "markdown",
   "id": "f630fe6c",
   "metadata": {},
   "source": [
    "### Problem 4\n",
    "Fit a quantile regression model using the statsmodels api using the formula `Dp ~ R`. By default quantreg creates a constant so there is no need to add one to this model. In your `fit()` method be sure to set `q = 0.5` so that we are estimating the theoritical median.  Extract the coefficients into a variable named `res2_coefs`.  Finally print the `summary()` of the model. \n",
    "\n",
    "\n",
    "Documentation: https://www.statsmodels.org/dev/generated/statsmodels.regression.quantile_regression.QuantReg.html"
   ]
  },
  {
   "cell_type": "code",
   "execution_count": 4,
   "id": "4731c2e4",
   "metadata": {
    "scrolled": false
   },
   "outputs": [
    {
     "name": "stdout",
     "output_type": "stream",
     "text": [
      "                         QuantReg Regression Results                          \n",
      "==============================================================================\n",
      "Dep. Variable:                     Dp   Pseudo R-squared:              0.01709\n",
      "Model:                       QuantReg   Bandwidth:                     0.02021\n",
      "Method:                 Least Squares   Sparsity:                      0.05759\n",
      "Date:                Sun, 23 Apr 2023   No. Observations:                  107\n",
      "Time:                        20:01:54   Df Residuals:                      106\n",
      "                                        Df Model:                            1\n",
      "==============================================================================\n",
      "                 coef    std err          t      P>|t|      [0.025      0.975]\n",
      "------------------------------------------------------------------------------\n",
      "R              0.1104      0.036      3.029      0.003       0.038       0.183\n",
      "==============================================================================\n"
     ]
    }
   ],
   "source": [
    "import statsmodels.api as sm\n",
    "\n",
    "# Define the dependent variable (y) and the independent variable (x)\n",
    "y = df['Dp']\n",
    "x = df['R']\n",
    "\n",
    "# Fit the quantile regression model for the 0.5th quantile (i.e., the median)\n",
    "q_model = sm.QuantReg(y, x).fit(q=0.5)\n",
    "\n",
    "# Extract the coefficients\n",
    "res2_coefs = q_model.params\n",
    "\n",
    "# Print the model summary\n",
    "print(q_model.summary())\n"
   ]
  },
  {
   "cell_type": "markdown",
   "id": "2d0d47d5",
   "metadata": {},
   "source": [
    "### Problem 5\n",
    "\n",
    "Part 1: Use the `type()` method to determine the type of `res1_coefs` and `res2_coefs`. Print the type in a Jupyter cell. \n",
    "\n",
    "Part 2: In the next Jupyter cell show that `res1_coefs > res2_coefs`. What does the error mean? To resolve this error we must convert the data to an unnamed object or change the names of the objects. Since we are not focusing on pandas this week we will simply convert to a different data type.\n",
    "\n",
    "Part 3: Now, do the same comparision using the `tolist()` function at the end of each object name. \n",
    "\n",
    "Part 4: We performed two types of linear regression and compared their coefficients. Coefficients are essentially the rate at which x changes the values of y. Do some research on what OLS estimates versus what quantreg estimates and explain why we have two different coefficient estimates. In which cases do you think quantile regression will be useful? What about ordinary least squares regression? "
   ]
  },
  {
   "cell_type": "code",
   "execution_count": 5,
   "id": "554fbe9a",
   "metadata": {},
   "outputs": [
    {
     "name": "stdout",
     "output_type": "stream",
     "text": [
      "<class 'pandas.core.series.Series'>\n",
      "<class 'pandas.core.series.Series'>\n"
     ]
    }
   ],
   "source": [
    "print(type(res1_coefs))\n",
    "print(type(res2_coefs))\n"
   ]
  },
  {
   "cell_type": "code",
   "execution_count": 6,
   "id": "c26ab4ad",
   "metadata": {},
   "outputs": [
    {
     "ename": "ValueError",
     "evalue": "Can only compare identically-labeled Series objects",
     "output_type": "error",
     "traceback": [
      "\u001b[0;31m---------------------------------------------------------------------------\u001b[0m",
      "\u001b[0;31mValueError\u001b[0m                                Traceback (most recent call last)",
      "Cell \u001b[0;32mIn[6], line 1\u001b[0m\n\u001b[0;32m----> 1\u001b[0m \u001b[38;5;28mprint\u001b[39m(\u001b[43mres1_coefs\u001b[49m\u001b[43m \u001b[49m\u001b[38;5;241;43m>\u001b[39;49m\u001b[43m \u001b[49m\u001b[43mres2_coefs\u001b[49m)\n",
      "File \u001b[0;32m~/opt/anaconda3/envs/DSE5002/lib/python3.11/site-packages/pandas/core/ops/common.py:81\u001b[0m, in \u001b[0;36m_unpack_zerodim_and_defer.<locals>.new_method\u001b[0;34m(self, other)\u001b[0m\n\u001b[1;32m     77\u001b[0m             \u001b[38;5;28;01mreturn\u001b[39;00m \u001b[38;5;28mNotImplemented\u001b[39m\n\u001b[1;32m     79\u001b[0m other \u001b[38;5;241m=\u001b[39m item_from_zerodim(other)\n\u001b[0;32m---> 81\u001b[0m \u001b[38;5;28;01mreturn\u001b[39;00m \u001b[43mmethod\u001b[49m\u001b[43m(\u001b[49m\u001b[38;5;28;43mself\u001b[39;49m\u001b[43m,\u001b[49m\u001b[43m \u001b[49m\u001b[43mother\u001b[49m\u001b[43m)\u001b[49m\n",
      "File \u001b[0;32m~/opt/anaconda3/envs/DSE5002/lib/python3.11/site-packages/pandas/core/arraylike.py:56\u001b[0m, in \u001b[0;36mOpsMixin.__gt__\u001b[0;34m(self, other)\u001b[0m\n\u001b[1;32m     54\u001b[0m \u001b[38;5;129m@unpack_zerodim_and_defer\u001b[39m(\u001b[38;5;124m\"\u001b[39m\u001b[38;5;124m__gt__\u001b[39m\u001b[38;5;124m\"\u001b[39m)\n\u001b[1;32m     55\u001b[0m \u001b[38;5;28;01mdef\u001b[39;00m \u001b[38;5;21m__gt__\u001b[39m(\u001b[38;5;28mself\u001b[39m, other):\n\u001b[0;32m---> 56\u001b[0m     \u001b[38;5;28;01mreturn\u001b[39;00m \u001b[38;5;28;43mself\u001b[39;49m\u001b[38;5;241;43m.\u001b[39;49m\u001b[43m_cmp_method\u001b[49m\u001b[43m(\u001b[49m\u001b[43mother\u001b[49m\u001b[43m,\u001b[49m\u001b[43m \u001b[49m\u001b[43moperator\u001b[49m\u001b[38;5;241;43m.\u001b[39;49m\u001b[43mgt\u001b[49m\u001b[43m)\u001b[49m\n",
      "File \u001b[0;32m~/opt/anaconda3/envs/DSE5002/lib/python3.11/site-packages/pandas/core/series.py:6091\u001b[0m, in \u001b[0;36mSeries._cmp_method\u001b[0;34m(self, other, op)\u001b[0m\n\u001b[1;32m   6088\u001b[0m res_name \u001b[38;5;241m=\u001b[39m ops\u001b[38;5;241m.\u001b[39mget_op_result_name(\u001b[38;5;28mself\u001b[39m, other)\n\u001b[1;32m   6090\u001b[0m \u001b[38;5;28;01mif\u001b[39;00m \u001b[38;5;28misinstance\u001b[39m(other, Series) \u001b[38;5;129;01mand\u001b[39;00m \u001b[38;5;129;01mnot\u001b[39;00m \u001b[38;5;28mself\u001b[39m\u001b[38;5;241m.\u001b[39m_indexed_same(other):\n\u001b[0;32m-> 6091\u001b[0m     \u001b[38;5;28;01mraise\u001b[39;00m \u001b[38;5;167;01mValueError\u001b[39;00m(\u001b[38;5;124m\"\u001b[39m\u001b[38;5;124mCan only compare identically-labeled Series objects\u001b[39m\u001b[38;5;124m\"\u001b[39m)\n\u001b[1;32m   6093\u001b[0m lvalues \u001b[38;5;241m=\u001b[39m \u001b[38;5;28mself\u001b[39m\u001b[38;5;241m.\u001b[39m_values\n\u001b[1;32m   6094\u001b[0m rvalues \u001b[38;5;241m=\u001b[39m extract_array(other, extract_numpy\u001b[38;5;241m=\u001b[39m\u001b[38;5;28;01mTrue\u001b[39;00m, extract_range\u001b[38;5;241m=\u001b[39m\u001b[38;5;28;01mTrue\u001b[39;00m)\n",
      "\u001b[0;31mValueError\u001b[0m: Can only compare identically-labeled Series objects"
     ]
    }
   ],
   "source": [
    "print(res1_coefs > res2_coefs)\n"
   ]
  },
  {
   "cell_type": "markdown",
   "id": "2333d39d",
   "metadata": {},
   "source": [
    "The ValueError indicates that we cannot compare the two Series objects res1_coefs and res2_coefs because they have different labels. To compare them, we need to first ensure that they have the same labels. We can do this by resetting the index of both Series and then comparing them. Here's how we can modify the code to compare the two Series:"
   ]
  },
  {
   "cell_type": "code",
   "execution_count": null,
   "id": "9fdd640f",
   "metadata": {},
   "outputs": [],
   "source": [
    "# assuming res1_coefs and res2_coefs are Pandas dataframes\n",
    "res1_coefs = res1_coefs.values.tolist()\n",
    "res2_coefs = res2_coefs.values.tolist()\n",
    "\n",
    "# comparing the two lists element-wise\n",
    "print(res1_coefs > res2_coefs)\n"
   ]
  },
  {
   "cell_type": "markdown",
   "id": "a8a64bde",
   "metadata": {},
   "source": [
    "The reason why OLS and quantile regression can produce different coefficient estimates is because they are estimating different aspects of the relationship between the predictor and response variables and make different assumptions about the underlying distribution of the data."
   ]
  },
  {
   "cell_type": "markdown",
   "id": "02fbbfbf",
   "metadata": {},
   "source": [
    "The choice between using quantile regression versus ordinary least squares regression depends on the research question and the nature of the relationship between the dependent variable and independent variable(s)."
   ]
  },
  {
   "cell_type": "markdown",
   "id": "a1ac1049",
   "metadata": {},
   "source": []
  }
 ],
 "metadata": {
  "kernelspec": {
   "display_name": "Python 3 (ipykernel)",
   "language": "python",
   "name": "python3"
  },
  "language_info": {
   "codemirror_mode": {
    "name": "ipython",
    "version": 3
   },
   "file_extension": ".py",
   "mimetype": "text/x-python",
   "name": "python",
   "nbconvert_exporter": "python",
   "pygments_lexer": "ipython3",
   "version": "3.11.0"
  }
 },
 "nbformat": 4,
 "nbformat_minor": 5
}
